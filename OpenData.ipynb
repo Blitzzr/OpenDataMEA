{
 "cells": [
  {
   "cell_type": "code",
   "execution_count": 1,
   "metadata": {
    "collapsed": false
   },
   "outputs": [],
   "source": [
    "import pandas as pd"
   ]
  },
  {
   "cell_type": "code",
   "execution_count": 2,
   "metadata": {
    "collapsed": false
   },
   "outputs": [],
   "source": [
    "ODB2015Score = pd.read_csv('data/ODB-3rdEdition-Rankings.csv', # Got 403 forbidden on the URL\n",
    "                           usecols=['ODB-Rank', 'Region', 'ISO3', 'Country', 'ODB-Score-Scaled'])\n",
    "ODB2015Score = ODB2015Score[ODB2015Score.Region == 'Middle East & North Africa'].copy().reset_index(drop=True)"
   ]
  },
  {
   "cell_type": "code",
   "execution_count": 3,
   "metadata": {
    "collapsed": false
   },
   "outputs": [
    {
     "data": {
      "text/html": [
       "<div>\n",
       "<table border=\"1\" class=\"dataframe\">\n",
       "  <thead>\n",
       "    <tr style=\"text-align: right;\">\n",
       "      <th></th>\n",
       "      <th>Region</th>\n",
       "      <th>ISO3</th>\n",
       "      <th>ODB-Rank</th>\n",
       "      <th>Country</th>\n",
       "      <th>ODB-Score-Scaled</th>\n",
       "    </tr>\n",
       "  </thead>\n",
       "  <tbody>\n",
       "    <tr>\n",
       "      <th>0</th>\n",
       "      <td>Middle East &amp; North Africa</td>\n",
       "      <td>ISR</td>\n",
       "      <td>29</td>\n",
       "      <td>Israel</td>\n",
       "      <td>43.71</td>\n",
       "    </tr>\n",
       "    <tr>\n",
       "      <th>1</th>\n",
       "      <td>Middle East &amp; North Africa</td>\n",
       "      <td>TUN</td>\n",
       "      <td>39</td>\n",
       "      <td>Tunisia</td>\n",
       "      <td>33.37</td>\n",
       "    </tr>\n",
       "    <tr>\n",
       "      <th>2</th>\n",
       "      <td>Middle East &amp; North Africa</td>\n",
       "      <td>ARE</td>\n",
       "      <td>47</td>\n",
       "      <td>UAE</td>\n",
       "      <td>27.00</td>\n",
       "    </tr>\n",
       "    <tr>\n",
       "      <th>3</th>\n",
       "      <td>Middle East &amp; North Africa</td>\n",
       "      <td>BHR</td>\n",
       "      <td>57</td>\n",
       "      <td>Bahrain</td>\n",
       "      <td>18.14</td>\n",
       "    </tr>\n",
       "    <tr>\n",
       "      <th>4</th>\n",
       "      <td>Middle East &amp; North Africa</td>\n",
       "      <td>SAU</td>\n",
       "      <td>57</td>\n",
       "      <td>Saudi Arabia</td>\n",
       "      <td>17.72</td>\n",
       "    </tr>\n",
       "    <tr>\n",
       "      <th>5</th>\n",
       "      <td>Middle East &amp; North Africa</td>\n",
       "      <td>QAT</td>\n",
       "      <td>60</td>\n",
       "      <td>Qatar</td>\n",
       "      <td>16.53</td>\n",
       "    </tr>\n",
       "    <tr>\n",
       "      <th>6</th>\n",
       "      <td>Middle East &amp; North Africa</td>\n",
       "      <td>MAR</td>\n",
       "      <td>62</td>\n",
       "      <td>Morocco</td>\n",
       "      <td>16.17</td>\n",
       "    </tr>\n",
       "    <tr>\n",
       "      <th>7</th>\n",
       "      <td>Middle East &amp; North Africa</td>\n",
       "      <td>JOR</td>\n",
       "      <td>70</td>\n",
       "      <td>Jordan</td>\n",
       "      <td>10.32</td>\n",
       "    </tr>\n",
       "    <tr>\n",
       "      <th>8</th>\n",
       "      <td>Middle East &amp; North Africa</td>\n",
       "      <td>EGY</td>\n",
       "      <td>75</td>\n",
       "      <td>Egypt</td>\n",
       "      <td>8.74</td>\n",
       "    </tr>\n",
       "    <tr>\n",
       "      <th>9</th>\n",
       "      <td>Middle East &amp; North Africa</td>\n",
       "      <td>YEM</td>\n",
       "      <td>91</td>\n",
       "      <td>Yemen</td>\n",
       "      <td>1.43</td>\n",
       "    </tr>\n",
       "  </tbody>\n",
       "</table>\n",
       "</div>"
      ],
      "text/plain": [
       "                       Region ISO3  ODB-Rank       Country  ODB-Score-Scaled\n",
       "0  Middle East & North Africa  ISR        29        Israel             43.71\n",
       "1  Middle East & North Africa  TUN        39       Tunisia             33.37\n",
       "2  Middle East & North Africa  ARE        47           UAE             27.00\n",
       "3  Middle East & North Africa  BHR        57       Bahrain             18.14\n",
       "4  Middle East & North Africa  SAU        57  Saudi Arabia             17.72\n",
       "5  Middle East & North Africa  QAT        60         Qatar             16.53\n",
       "6  Middle East & North Africa  MAR        62       Morocco             16.17\n",
       "7  Middle East & North Africa  JOR        70        Jordan             10.32\n",
       "8  Middle East & North Africa  EGY        75         Egypt              8.74\n",
       "9  Middle East & North Africa  YEM        91         Yemen              1.43"
      ]
     },
     "execution_count": 3,
     "metadata": {},
     "output_type": "execute_result"
    }
   ],
   "source": [
    "ODB2015Score"
   ]
  },
  {
   "cell_type": "code",
   "execution_count": 4,
   "metadata": {
    "collapsed": false
   },
   "outputs": [
    {
     "name": "stdout",
     "output_type": "stream",
     "text": [
      "{'QAT': 16.53, 'JOR': 10.32, 'MAR': 16.17, 'YEM': 1.43, 'ISR': 43.71, 'EGY': 8.74, 'ARE': 27.0, 'TUN': 33.37, 'BHR': 18.14, 'SAU': 17.72}\n"
     ]
    }
   ],
   "source": [
    "OFiltered = ODB2015Score[['ISO3', 'ODB-Score-Scaled']]\n",
    "D = {}\n",
    "for i in OFiltered.to_dict('records'):\n",
    "    D[i['ISO3']] = i['ODB-Score-Scaled']\n",
    "print D"
   ]
  },
  {
   "cell_type": "code",
   "execution_count": 5,
   "metadata": {
    "collapsed": false
   },
   "outputs": [
    {
     "name": "stdout",
     "output_type": "stream",
     "text": [
      "16.53\n",
      "10.32\n",
      "16.17\n",
      "1.43\n",
      "43.71\n",
      "8.74\n",
      "27.0\n",
      "33.37\n",
      "18.14\n",
      "17.72\n"
     ]
    }
   ],
   "source": [
    "for z in D:\n",
    "    print D[z]\n",
    "M = max(D.values())"
   ]
  },
  {
   "cell_type": "code",
   "execution_count": 6,
   "metadata": {
    "collapsed": true
   },
   "outputs": [],
   "source": [
    "import cartopy.crs as ccrs\n",
    "import matplotlib.pyplot as plt\n",
    "import matplotlib as mpl\n",
    "import cartopy.io.shapereader as shpreader\n",
    "\n",
    "%matplotlib inline\n",
    "\n",
    "shapename = 'admin_0_countries'\n",
    "countries_shp = shpreader.natural_earth(resolution='110m',\n",
    "                                        category='cultural', name=shapename)"
   ]
  },
  {
   "cell_type": "code",
   "execution_count": 7,
   "metadata": {
    "collapsed": false
   },
   "outputs": [
    {
     "name": "stdout",
     "output_type": "stream",
     "text": [
      "United Arab Emirates\n",
      "Egypt\n",
      "Israel\n",
      "Jordan\n",
      "Morocco\n",
      "Qatar\n",
      "Saudi Arabia\n",
      "Tunisia\n",
      "Yemen\n"
     ]
    },
    {
     "data": {
      "image/png": "[encoded data removed]",
      "text/plain": [
       "<matplotlib.figure.Figure at 0x4a16f10>"
      ]
     },
     "metadata": {},
     "output_type": "display_data"
    }
   ],
   "source": [
    "#colormap = mpl.cm.hot # color scheme\n",
    "colormap = mpl.cm.cool\n",
    "ax = plt.axes(projection=ccrs.PlateCarree())\n",
    "ax.set_extent([-20, 60, 12, 35])\n",
    "\n",
    "\n",
    "i = 0\n",
    "for c in shpreader.Reader(countries_shp).records():\n",
    "    \n",
    "    for z in D:\n",
    "        if c.attributes['iso_a3'] == z:\n",
    "            score = D[z]\n",
    "            print c.attributes['name_long']\n",
    "            ax.add_geometries(c.geometry, ccrs.PlateCarree(), facecolor=colormap(score/float(M), 1), alpha=0.5)\n",
    "    if c.attributes['iso_a3'] not in D:\n",
    "        ax.add_geometries(c.geometry, ccrs.PlateCarree(), facecolor='#ffffff', edgecolor='none')\n",
    "        ax.coastlines()\n",
    "ax.can_zoom\n",
    "plt.show()"
   ]
  }
 ],
 "metadata": {
  "kernelspec": {
   "display_name": "Python 2",
   "language": "python",
   "name": "python2"
  },
  "language_info": {
   "codemirror_mode": {
    "name": "ipython",
    "version": 2
   },
   "file_extension": ".py",
   "mimetype": "text/x-python",
   "name": "python",
   "nbconvert_exporter": "python",
   "pygments_lexer": "ipython2",
   "version": "2.7.5"
  }
 },
 "nbformat": 4,
 "nbformat_minor": 0
}
